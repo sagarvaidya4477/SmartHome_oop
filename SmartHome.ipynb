class SmartDevice:
    def __init__(self, device_id, device_name):
        self.device_id = device_id
        self.device_name = device_name
        self.status = "off"

    def turn_on(self):
        self.status = "on"

    def turn_off(self):
        self.status = "off"

    def get_status(self):
        return self.status
    
class Light(SmartDevice):
    def __init__(self, device_id, device_name, brightness=100, color='white'):
        super().__init__(device_id, device_name)
        self.brightness = brightness
        self.color = color

    def set_brightness(self, level):
        self.brightness = level

    def set_color(self, color):
        self.color = color


class Thermostat(SmartDevice):
    def __init__(self, device_id, device_name, temperature=72):
        super().__init__(device_id, device_name)
        self.temperature = temperature

    def set_temperature(self, temp):
        self.temperature = temp

class SecurityCamera(SmartDevice):
    def __init__(self, device_id, device_name, resolution='1080p'):
        super().__init__(device_id, device_name)
        self.recording_status = "off"
        self.resolution = resolution

    def start_recording(self):
        self.recording_status = "on"

    def stop_recording(self):
        self.recording_status = "off"

    def get_recording_status(self):
        return self.recording_status

class SmartHomeController:
    def __init__(self):
        self.device_list = []

    def add_device(self, device):
        self.device_list.append(device)

    def remove_device(self, device_id):
        self.device_list = [device for device in self.device_list if device.device_id != device_id]

    def get_device_status(self, device_id):
        for device in self.device_list:
            if device.device_id == device_id:
                if isinstance(device, SecurityCamera):
                    return f"Recording Status:{device.get_recording_status()}"
                return device.get_status()
        return 'Device not found'

    def control_device(self, device_id, action):
        for device in self.device_list:
            if device.device_id == device_id:
                if action == 'turn_on':
                    device.turn_on()
                elif action == 'turn_off':
                    device.turn_off()
                elif action == 'start_recording':
                    if isinstance(device, SecurityCamera):
                        device.start_recording()
                elif action == 'stop_recording':
                    if isinstance(device, SecurityCamera):
                        device.stop_recording()
                return f'{device.device_name} {action}'
        return 'Device not found'

home_controller = SmartHomeController()
while True:
    device_type = input("Enter device type (light/thermostat/camera) or 'exit' to stop: ")
    if device_type.lower() == 'exit':
        break
    device_id = int(input("Enter device ID: "))
    device_name = input("Enter device name: ")

    if device_type.lower() == 'light':
        home_controller.add_device(Light(device_id, device_name))
    elif device_type.lower() == 'thermostat':
        home_controller.add_device(Thermostat(device_id, device_name))
    elif device_type.lower() == 'camera':
        home_controller.add_device(SecurityCamera(device_id, device_name))
    else:
        print("Invalid device type.")

while True:
    action_device_id = int(input("Enter device ID to control or -1 to exit: "))
    if action_device_id == -1:
        break
    action = input("Enter action (turn_on/turn_off/start_recording/stop_recording): ")
    print(home_controller.control_device(action_device_id, action))

for device in home_controller.device_list:
    print("{} status: {}".format(device.device_name, home_controller.get_device_status(device.device_id)))
